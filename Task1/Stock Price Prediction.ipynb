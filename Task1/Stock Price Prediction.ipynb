{
 "cells": [
  {
   "cell_type": "code",
   "execution_count": 9,
   "id": "793e93ad",
   "metadata": {},
   "outputs": [],
   "source": [
    "import pandas as pd\n",
    "\n",
    "df = pd.read_csv('MSFT.csv')"
   ]
  },
  {
   "cell_type": "code",
   "execution_count": 11,
   "id": "1530046f",
   "metadata": {},
   "outputs": [
    {
     "data": {
      "text/html": [
       "<div>\n",
       "<style scoped>\n",
       "    .dataframe tbody tr th:only-of-type {\n",
       "        vertical-align: middle;\n",
       "    }\n",
       "\n",
       "    .dataframe tbody tr th {\n",
       "        vertical-align: top;\n",
       "    }\n",
       "\n",
       "    .dataframe thead th {\n",
       "        text-align: right;\n",
       "    }\n",
       "</style>\n",
       "<table border=\"1\" class=\"dataframe\">\n",
       "  <thead>\n",
       "    <tr style=\"text-align: right;\">\n",
       "      <th></th>\n",
       "      <th>Date</th>\n",
       "      <th>Open</th>\n",
       "      <th>High</th>\n",
       "      <th>Low</th>\n",
       "      <th>Close</th>\n",
       "      <th>Adj Close</th>\n",
       "      <th>Volume</th>\n",
       "    </tr>\n",
       "  </thead>\n",
       "  <tbody>\n",
       "    <tr>\n",
       "      <th>0</th>\n",
       "      <td>2022-07-06</td>\n",
       "      <td>263.750000</td>\n",
       "      <td>267.989990</td>\n",
       "      <td>262.399994</td>\n",
       "      <td>266.209991</td>\n",
       "      <td>263.661377</td>\n",
       "      <td>23824400</td>\n",
       "    </tr>\n",
       "    <tr>\n",
       "      <th>1</th>\n",
       "      <td>2022-07-07</td>\n",
       "      <td>265.119995</td>\n",
       "      <td>269.059998</td>\n",
       "      <td>265.019989</td>\n",
       "      <td>268.399994</td>\n",
       "      <td>265.830383</td>\n",
       "      <td>20859900</td>\n",
       "    </tr>\n",
       "    <tr>\n",
       "      <th>2</th>\n",
       "      <td>2022-07-08</td>\n",
       "      <td>264.790009</td>\n",
       "      <td>268.100006</td>\n",
       "      <td>263.290009</td>\n",
       "      <td>267.660004</td>\n",
       "      <td>265.097504</td>\n",
       "      <td>19658800</td>\n",
       "    </tr>\n",
       "    <tr>\n",
       "      <th>3</th>\n",
       "      <td>2022-07-11</td>\n",
       "      <td>265.649994</td>\n",
       "      <td>266.529999</td>\n",
       "      <td>262.179993</td>\n",
       "      <td>264.510010</td>\n",
       "      <td>261.977661</td>\n",
       "      <td>19455200</td>\n",
       "    </tr>\n",
       "    <tr>\n",
       "      <th>4</th>\n",
       "      <td>2022-07-12</td>\n",
       "      <td>265.880005</td>\n",
       "      <td>265.940002</td>\n",
       "      <td>252.039993</td>\n",
       "      <td>253.669998</td>\n",
       "      <td>251.241440</td>\n",
       "      <td>35868500</td>\n",
       "    </tr>\n",
       "    <tr>\n",
       "      <th>...</th>\n",
       "      <td>...</td>\n",
       "      <td>...</td>\n",
       "      <td>...</td>\n",
       "      <td>...</td>\n",
       "      <td>...</td>\n",
       "      <td>...</td>\n",
       "      <td>...</td>\n",
       "    </tr>\n",
       "    <tr>\n",
       "      <th>246</th>\n",
       "      <td>2023-06-28</td>\n",
       "      <td>334.660004</td>\n",
       "      <td>337.980011</td>\n",
       "      <td>333.809998</td>\n",
       "      <td>335.850006</td>\n",
       "      <td>335.850006</td>\n",
       "      <td>20259500</td>\n",
       "    </tr>\n",
       "    <tr>\n",
       "      <th>247</th>\n",
       "      <td>2023-06-29</td>\n",
       "      <td>334.709991</td>\n",
       "      <td>336.109985</td>\n",
       "      <td>332.619995</td>\n",
       "      <td>335.049988</td>\n",
       "      <td>335.049988</td>\n",
       "      <td>16997000</td>\n",
       "    </tr>\n",
       "    <tr>\n",
       "      <th>248</th>\n",
       "      <td>2023-06-30</td>\n",
       "      <td>337.750000</td>\n",
       "      <td>342.730011</td>\n",
       "      <td>337.200012</td>\n",
       "      <td>340.540009</td>\n",
       "      <td>340.540009</td>\n",
       "      <td>26823800</td>\n",
       "    </tr>\n",
       "    <tr>\n",
       "      <th>249</th>\n",
       "      <td>2023-07-03</td>\n",
       "      <td>339.190002</td>\n",
       "      <td>340.899994</td>\n",
       "      <td>336.570007</td>\n",
       "      <td>337.989990</td>\n",
       "      <td>337.989990</td>\n",
       "      <td>12508700</td>\n",
       "    </tr>\n",
       "    <tr>\n",
       "      <th>250</th>\n",
       "      <td>2023-07-05</td>\n",
       "      <td>335.089996</td>\n",
       "      <td>341.649994</td>\n",
       "      <td>334.730011</td>\n",
       "      <td>338.149994</td>\n",
       "      <td>338.149994</td>\n",
       "      <td>18156200</td>\n",
       "    </tr>\n",
       "  </tbody>\n",
       "</table>\n",
       "<p>251 rows × 7 columns</p>\n",
       "</div>"
      ],
      "text/plain": [
       "           Date        Open        High         Low       Close   Adj Close  \\\n",
       "0    2022-07-06  263.750000  267.989990  262.399994  266.209991  263.661377   \n",
       "1    2022-07-07  265.119995  269.059998  265.019989  268.399994  265.830383   \n",
       "2    2022-07-08  264.790009  268.100006  263.290009  267.660004  265.097504   \n",
       "3    2022-07-11  265.649994  266.529999  262.179993  264.510010  261.977661   \n",
       "4    2022-07-12  265.880005  265.940002  252.039993  253.669998  251.241440   \n",
       "..          ...         ...         ...         ...         ...         ...   \n",
       "246  2023-06-28  334.660004  337.980011  333.809998  335.850006  335.850006   \n",
       "247  2023-06-29  334.709991  336.109985  332.619995  335.049988  335.049988   \n",
       "248  2023-06-30  337.750000  342.730011  337.200012  340.540009  340.540009   \n",
       "249  2023-07-03  339.190002  340.899994  336.570007  337.989990  337.989990   \n",
       "250  2023-07-05  335.089996  341.649994  334.730011  338.149994  338.149994   \n",
       "\n",
       "       Volume  \n",
       "0    23824400  \n",
       "1    20859900  \n",
       "2    19658800  \n",
       "3    19455200  \n",
       "4    35868500  \n",
       "..        ...  \n",
       "246  20259500  \n",
       "247  16997000  \n",
       "248  26823800  \n",
       "249  12508700  \n",
       "250  18156200  \n",
       "\n",
       "[251 rows x 7 columns]"
      ]
     },
     "execution_count": 11,
     "metadata": {},
     "output_type": "execute_result"
    }
   ],
   "source": [
    "df"
   ]
  },
  {
   "cell_type": "code",
   "execution_count": 12,
   "id": "36b02bbf",
   "metadata": {},
   "outputs": [
    {
     "data": {
      "text/html": [
       "<div>\n",
       "<style scoped>\n",
       "    .dataframe tbody tr th:only-of-type {\n",
       "        vertical-align: middle;\n",
       "    }\n",
       "\n",
       "    .dataframe tbody tr th {\n",
       "        vertical-align: top;\n",
       "    }\n",
       "\n",
       "    .dataframe thead th {\n",
       "        text-align: right;\n",
       "    }\n",
       "</style>\n",
       "<table border=\"1\" class=\"dataframe\">\n",
       "  <thead>\n",
       "    <tr style=\"text-align: right;\">\n",
       "      <th></th>\n",
       "      <th>Date</th>\n",
       "      <th>Close</th>\n",
       "    </tr>\n",
       "  </thead>\n",
       "  <tbody>\n",
       "    <tr>\n",
       "      <th>0</th>\n",
       "      <td>2022-07-06</td>\n",
       "      <td>266.209991</td>\n",
       "    </tr>\n",
       "    <tr>\n",
       "      <th>1</th>\n",
       "      <td>2022-07-07</td>\n",
       "      <td>268.399994</td>\n",
       "    </tr>\n",
       "    <tr>\n",
       "      <th>2</th>\n",
       "      <td>2022-07-08</td>\n",
       "      <td>267.660004</td>\n",
       "    </tr>\n",
       "    <tr>\n",
       "      <th>3</th>\n",
       "      <td>2022-07-11</td>\n",
       "      <td>264.510010</td>\n",
       "    </tr>\n",
       "    <tr>\n",
       "      <th>4</th>\n",
       "      <td>2022-07-12</td>\n",
       "      <td>253.669998</td>\n",
       "    </tr>\n",
       "    <tr>\n",
       "      <th>...</th>\n",
       "      <td>...</td>\n",
       "      <td>...</td>\n",
       "    </tr>\n",
       "    <tr>\n",
       "      <th>246</th>\n",
       "      <td>2023-06-28</td>\n",
       "      <td>335.850006</td>\n",
       "    </tr>\n",
       "    <tr>\n",
       "      <th>247</th>\n",
       "      <td>2023-06-29</td>\n",
       "      <td>335.049988</td>\n",
       "    </tr>\n",
       "    <tr>\n",
       "      <th>248</th>\n",
       "      <td>2023-06-30</td>\n",
       "      <td>340.540009</td>\n",
       "    </tr>\n",
       "    <tr>\n",
       "      <th>249</th>\n",
       "      <td>2023-07-03</td>\n",
       "      <td>337.989990</td>\n",
       "    </tr>\n",
       "    <tr>\n",
       "      <th>250</th>\n",
       "      <td>2023-07-05</td>\n",
       "      <td>338.149994</td>\n",
       "    </tr>\n",
       "  </tbody>\n",
       "</table>\n",
       "<p>251 rows × 2 columns</p>\n",
       "</div>"
      ],
      "text/plain": [
       "           Date       Close\n",
       "0    2022-07-06  266.209991\n",
       "1    2022-07-07  268.399994\n",
       "2    2022-07-08  267.660004\n",
       "3    2022-07-11  264.510010\n",
       "4    2022-07-12  253.669998\n",
       "..          ...         ...\n",
       "246  2023-06-28  335.850006\n",
       "247  2023-06-29  335.049988\n",
       "248  2023-06-30  340.540009\n",
       "249  2023-07-03  337.989990\n",
       "250  2023-07-05  338.149994\n",
       "\n",
       "[251 rows x 2 columns]"
      ]
     },
     "execution_count": 12,
     "metadata": {},
     "output_type": "execute_result"
    }
   ],
   "source": [
    "df = df[['Date', 'Close']]\n",
    "\n",
    "df"
   ]
  },
  {
   "cell_type": "code",
   "execution_count": 13,
   "id": "8975bdec",
   "metadata": {},
   "outputs": [
    {
     "data": {
      "text/plain": [
       "0      2022-07-06\n",
       "1      2022-07-07\n",
       "2      2022-07-08\n",
       "3      2022-07-11\n",
       "4      2022-07-12\n",
       "          ...    \n",
       "246    2023-06-28\n",
       "247    2023-06-29\n",
       "248    2023-06-30\n",
       "249    2023-07-03\n",
       "250    2023-07-05\n",
       "Name: Date, Length: 251, dtype: object"
      ]
     },
     "execution_count": 13,
     "metadata": {},
     "output_type": "execute_result"
    }
   ],
   "source": [
    "df['Date']"
   ]
  },
  {
   "cell_type": "code",
   "execution_count": 14,
   "id": "55612f0d",
   "metadata": {},
   "outputs": [
    {
     "data": {
      "text/plain": [
       "datetime.datetime(1986, 3, 19, 0, 0)"
      ]
     },
     "execution_count": 14,
     "metadata": {},
     "output_type": "execute_result"
    }
   ],
   "source": [
    "import datetime\n",
    "\n",
    "def str_to_datetime(s):\n",
    "  split = s.split('-')\n",
    "  year, month, day = int(split[0]), int(split[1]), int(split[2])\n",
    "  return datetime.datetime(year=year, month=month, day=day)\n",
    "\n",
    "datetime_object = str_to_datetime('1986-03-19')\n",
    "datetime_object"
   ]
  },
  {
   "cell_type": "code",
   "execution_count": 15,
   "id": "a335a253",
   "metadata": {},
   "outputs": [
    {
     "data": {
      "text/html": [
       "<div>\n",
       "<style scoped>\n",
       "    .dataframe tbody tr th:only-of-type {\n",
       "        vertical-align: middle;\n",
       "    }\n",
       "\n",
       "    .dataframe tbody tr th {\n",
       "        vertical-align: top;\n",
       "    }\n",
       "\n",
       "    .dataframe thead th {\n",
       "        text-align: right;\n",
       "    }\n",
       "</style>\n",
       "<table border=\"1\" class=\"dataframe\">\n",
       "  <thead>\n",
       "    <tr style=\"text-align: right;\">\n",
       "      <th></th>\n",
       "      <th>Date</th>\n",
       "      <th>Close</th>\n",
       "    </tr>\n",
       "  </thead>\n",
       "  <tbody>\n",
       "    <tr>\n",
       "      <th>0</th>\n",
       "      <td>2022-07-06</td>\n",
       "      <td>266.209991</td>\n",
       "    </tr>\n",
       "    <tr>\n",
       "      <th>1</th>\n",
       "      <td>2022-07-07</td>\n",
       "      <td>268.399994</td>\n",
       "    </tr>\n",
       "    <tr>\n",
       "      <th>2</th>\n",
       "      <td>2022-07-08</td>\n",
       "      <td>267.660004</td>\n",
       "    </tr>\n",
       "    <tr>\n",
       "      <th>3</th>\n",
       "      <td>2022-07-11</td>\n",
       "      <td>264.510010</td>\n",
       "    </tr>\n",
       "    <tr>\n",
       "      <th>4</th>\n",
       "      <td>2022-07-12</td>\n",
       "      <td>253.669998</td>\n",
       "    </tr>\n",
       "    <tr>\n",
       "      <th>...</th>\n",
       "      <td>...</td>\n",
       "      <td>...</td>\n",
       "    </tr>\n",
       "    <tr>\n",
       "      <th>246</th>\n",
       "      <td>2023-06-28</td>\n",
       "      <td>335.850006</td>\n",
       "    </tr>\n",
       "    <tr>\n",
       "      <th>247</th>\n",
       "      <td>2023-06-29</td>\n",
       "      <td>335.049988</td>\n",
       "    </tr>\n",
       "    <tr>\n",
       "      <th>248</th>\n",
       "      <td>2023-06-30</td>\n",
       "      <td>340.540009</td>\n",
       "    </tr>\n",
       "    <tr>\n",
       "      <th>249</th>\n",
       "      <td>2023-07-03</td>\n",
       "      <td>337.989990</td>\n",
       "    </tr>\n",
       "    <tr>\n",
       "      <th>250</th>\n",
       "      <td>2023-07-05</td>\n",
       "      <td>338.149994</td>\n",
       "    </tr>\n",
       "  </tbody>\n",
       "</table>\n",
       "<p>251 rows × 2 columns</p>\n",
       "</div>"
      ],
      "text/plain": [
       "           Date       Close\n",
       "0    2022-07-06  266.209991\n",
       "1    2022-07-07  268.399994\n",
       "2    2022-07-08  267.660004\n",
       "3    2022-07-11  264.510010\n",
       "4    2022-07-12  253.669998\n",
       "..          ...         ...\n",
       "246  2023-06-28  335.850006\n",
       "247  2023-06-29  335.049988\n",
       "248  2023-06-30  340.540009\n",
       "249  2023-07-03  337.989990\n",
       "250  2023-07-05  338.149994\n",
       "\n",
       "[251 rows x 2 columns]"
      ]
     },
     "execution_count": 15,
     "metadata": {},
     "output_type": "execute_result"
    }
   ],
   "source": [
    "df"
   ]
  },
  {
   "cell_type": "code",
   "execution_count": 16,
   "id": "6fe65dd8",
   "metadata": {},
   "outputs": [
    {
     "name": "stderr",
     "output_type": "stream",
     "text": [
      "C:\\Users\\akshita\\AppData\\Local\\Temp/ipykernel_17524/2565755782.py:1: SettingWithCopyWarning: \n",
      "A value is trying to be set on a copy of a slice from a DataFrame.\n",
      "Try using .loc[row_indexer,col_indexer] = value instead\n",
      "\n",
      "See the caveats in the documentation: https://pandas.pydata.org/pandas-docs/stable/user_guide/indexing.html#returning-a-view-versus-a-copy\n",
      "  df['Date'] = df['Date'].apply(str_to_datetime)\n"
     ]
    },
    {
     "data": {
      "text/plain": [
       "0     2022-07-06\n",
       "1     2022-07-07\n",
       "2     2022-07-08\n",
       "3     2022-07-11\n",
       "4     2022-07-12\n",
       "         ...    \n",
       "246   2023-06-28\n",
       "247   2023-06-29\n",
       "248   2023-06-30\n",
       "249   2023-07-03\n",
       "250   2023-07-05\n",
       "Name: Date, Length: 251, dtype: datetime64[ns]"
      ]
     },
     "execution_count": 16,
     "metadata": {},
     "output_type": "execute_result"
    }
   ],
   "source": [
    "df['Date'] = df['Date'].apply(str_to_datetime)\n",
    "df['Date']"
   ]
  },
  {
   "cell_type": "code",
   "execution_count": 17,
   "id": "905de130",
   "metadata": {},
   "outputs": [
    {
     "data": {
      "text/html": [
       "<div>\n",
       "<style scoped>\n",
       "    .dataframe tbody tr th:only-of-type {\n",
       "        vertical-align: middle;\n",
       "    }\n",
       "\n",
       "    .dataframe tbody tr th {\n",
       "        vertical-align: top;\n",
       "    }\n",
       "\n",
       "    .dataframe thead th {\n",
       "        text-align: right;\n",
       "    }\n",
       "</style>\n",
       "<table border=\"1\" class=\"dataframe\">\n",
       "  <thead>\n",
       "    <tr style=\"text-align: right;\">\n",
       "      <th></th>\n",
       "      <th>Close</th>\n",
       "    </tr>\n",
       "    <tr>\n",
       "      <th>Date</th>\n",
       "      <th></th>\n",
       "    </tr>\n",
       "  </thead>\n",
       "  <tbody>\n",
       "    <tr>\n",
       "      <th>2022-07-06</th>\n",
       "      <td>266.209991</td>\n",
       "    </tr>\n",
       "    <tr>\n",
       "      <th>2022-07-07</th>\n",
       "      <td>268.399994</td>\n",
       "    </tr>\n",
       "    <tr>\n",
       "      <th>2022-07-08</th>\n",
       "      <td>267.660004</td>\n",
       "    </tr>\n",
       "    <tr>\n",
       "      <th>2022-07-11</th>\n",
       "      <td>264.510010</td>\n",
       "    </tr>\n",
       "    <tr>\n",
       "      <th>2022-07-12</th>\n",
       "      <td>253.669998</td>\n",
       "    </tr>\n",
       "    <tr>\n",
       "      <th>...</th>\n",
       "      <td>...</td>\n",
       "    </tr>\n",
       "    <tr>\n",
       "      <th>2023-06-28</th>\n",
       "      <td>335.850006</td>\n",
       "    </tr>\n",
       "    <tr>\n",
       "      <th>2023-06-29</th>\n",
       "      <td>335.049988</td>\n",
       "    </tr>\n",
       "    <tr>\n",
       "      <th>2023-06-30</th>\n",
       "      <td>340.540009</td>\n",
       "    </tr>\n",
       "    <tr>\n",
       "      <th>2023-07-03</th>\n",
       "      <td>337.989990</td>\n",
       "    </tr>\n",
       "    <tr>\n",
       "      <th>2023-07-05</th>\n",
       "      <td>338.149994</td>\n",
       "    </tr>\n",
       "  </tbody>\n",
       "</table>\n",
       "<p>251 rows × 1 columns</p>\n",
       "</div>"
      ],
      "text/plain": [
       "                 Close\n",
       "Date                  \n",
       "2022-07-06  266.209991\n",
       "2022-07-07  268.399994\n",
       "2022-07-08  267.660004\n",
       "2022-07-11  264.510010\n",
       "2022-07-12  253.669998\n",
       "...                ...\n",
       "2023-06-28  335.850006\n",
       "2023-06-29  335.049988\n",
       "2023-06-30  340.540009\n",
       "2023-07-03  337.989990\n",
       "2023-07-05  338.149994\n",
       "\n",
       "[251 rows x 1 columns]"
      ]
     },
     "execution_count": 17,
     "metadata": {},
     "output_type": "execute_result"
    }
   ],
   "source": [
    "df.index = df.pop('Date')\n",
    "df"
   ]
  },
  {
   "cell_type": "code",
   "execution_count": 18,
   "id": "3bfd20e6",
   "metadata": {},
   "outputs": [
    {
     "data": {
      "text/plain": [
       "[<matplotlib.lines.Line2D at 0x184119ae550>]"
      ]
     },
     "execution_count": 18,
     "metadata": {},
     "output_type": "execute_result"
    },
    {
     "data": {
      "image/png": "[encoded data removed]",
      "text/plain": [
       "<Figure size 432x288 with 1 Axes>"
      ]
     },
     "metadata": {
      "needs_background": "light"
     },
     "output_type": "display_data"
    }
   ],
   "source": [
    "import matplotlib.pyplot as plt\n",
    "\n",
    "plt.plot(df.index, df['Close'])"
   ]
  },
  {
   "cell_type": "code",
   "execution_count": 37,
   "id": "95a227ae",
   "metadata": {},
   "outputs": [
    {
     "data": {
      "text/html": [
       "<div>\n",
       "<style scoped>\n",
       "    .dataframe tbody tr th:only-of-type {\n",
       "        vertical-align: middle;\n",
       "    }\n",
       "\n",
       "    .dataframe tbody tr th {\n",
       "        vertical-align: top;\n",
       "    }\n",
       "\n",
       "    .dataframe thead th {\n",
       "        text-align: right;\n",
       "    }\n",
       "</style>\n",
       "<table border=\"1\" class=\"dataframe\">\n",
       "  <thead>\n",
       "    <tr style=\"text-align: right;\">\n",
       "      <th></th>\n",
       "      <th>Target Date</th>\n",
       "      <th>Target-3</th>\n",
       "      <th>Target-2</th>\n",
       "      <th>Target-1</th>\n",
       "      <th>Target</th>\n",
       "    </tr>\n",
       "  </thead>\n",
       "  <tbody>\n",
       "    <tr>\n",
       "      <th>0</th>\n",
       "      <td>2022-07-11</td>\n",
       "      <td>266.209991</td>\n",
       "      <td>268.399994</td>\n",
       "      <td>267.660004</td>\n",
       "      <td>264.510010</td>\n",
       "    </tr>\n",
       "    <tr>\n",
       "      <th>1</th>\n",
       "      <td>2022-07-12</td>\n",
       "      <td>268.399994</td>\n",
       "      <td>267.660004</td>\n",
       "      <td>264.510010</td>\n",
       "      <td>253.669998</td>\n",
       "    </tr>\n",
       "    <tr>\n",
       "      <th>2</th>\n",
       "      <td>2022-07-13</td>\n",
       "      <td>267.660004</td>\n",
       "      <td>264.510010</td>\n",
       "      <td>253.669998</td>\n",
       "      <td>252.720001</td>\n",
       "    </tr>\n",
       "    <tr>\n",
       "      <th>3</th>\n",
       "      <td>2022-07-14</td>\n",
       "      <td>264.510010</td>\n",
       "      <td>253.669998</td>\n",
       "      <td>252.720001</td>\n",
       "      <td>254.080002</td>\n",
       "    </tr>\n",
       "    <tr>\n",
       "      <th>4</th>\n",
       "      <td>2022-07-15</td>\n",
       "      <td>253.669998</td>\n",
       "      <td>252.720001</td>\n",
       "      <td>254.080002</td>\n",
       "      <td>256.720001</td>\n",
       "    </tr>\n",
       "    <tr>\n",
       "      <th>...</th>\n",
       "      <td>...</td>\n",
       "      <td>...</td>\n",
       "      <td>...</td>\n",
       "      <td>...</td>\n",
       "      <td>...</td>\n",
       "    </tr>\n",
       "    <tr>\n",
       "      <th>243</th>\n",
       "      <td>2023-06-28</td>\n",
       "      <td>335.019989</td>\n",
       "      <td>328.600006</td>\n",
       "      <td>334.570007</td>\n",
       "      <td>335.850006</td>\n",
       "    </tr>\n",
       "    <tr>\n",
       "      <th>244</th>\n",
       "      <td>2023-06-29</td>\n",
       "      <td>328.600006</td>\n",
       "      <td>334.570007</td>\n",
       "      <td>335.850006</td>\n",
       "      <td>335.049988</td>\n",
       "    </tr>\n",
       "    <tr>\n",
       "      <th>245</th>\n",
       "      <td>2023-06-30</td>\n",
       "      <td>334.570007</td>\n",
       "      <td>335.850006</td>\n",
       "      <td>335.049988</td>\n",
       "      <td>340.540009</td>\n",
       "    </tr>\n",
       "    <tr>\n",
       "      <th>246</th>\n",
       "      <td>2023-07-03</td>\n",
       "      <td>335.850006</td>\n",
       "      <td>335.049988</td>\n",
       "      <td>340.540009</td>\n",
       "      <td>337.989990</td>\n",
       "    </tr>\n",
       "    <tr>\n",
       "      <th>247</th>\n",
       "      <td>2023-07-05</td>\n",
       "      <td>335.049988</td>\n",
       "      <td>340.540009</td>\n",
       "      <td>337.989990</td>\n",
       "      <td>338.149994</td>\n",
       "    </tr>\n",
       "  </tbody>\n",
       "</table>\n",
       "<p>248 rows × 5 columns</p>\n",
       "</div>"
      ],
      "text/plain": [
       "    Target Date    Target-3    Target-2    Target-1      Target\n",
       "0    2022-07-11  266.209991  268.399994  267.660004  264.510010\n",
       "1    2022-07-12  268.399994  267.660004  264.510010  253.669998\n",
       "2    2022-07-13  267.660004  264.510010  253.669998  252.720001\n",
       "3    2022-07-14  264.510010  253.669998  252.720001  254.080002\n",
       "4    2022-07-15  253.669998  252.720001  254.080002  256.720001\n",
       "..          ...         ...         ...         ...         ...\n",
       "243  2023-06-28  335.019989  328.600006  334.570007  335.850006\n",
       "244  2023-06-29  328.600006  334.570007  335.850006  335.049988\n",
       "245  2023-06-30  334.570007  335.850006  335.049988  340.540009\n",
       "246  2023-07-03  335.850006  335.049988  340.540009  337.989990\n",
       "247  2023-07-05  335.049988  340.540009  337.989990  338.149994\n",
       "\n",
       "[248 rows x 5 columns]"
      ]
     },
     "execution_count": 37,
     "metadata": {},
     "output_type": "execute_result"
    }
   ],
   "source": [
    "import numpy as np\n",
    "\n",
    "def df_to_windowed_df(dataframe, first_date_str, last_date_str, n=3):\n",
    "  first_date = str_to_datetime(first_date_str)\n",
    "  last_date  = str_to_datetime(last_date_str)\n",
    "\n",
    "  target_date = first_date\n",
    "  \n",
    "  dates = []\n",
    "  X, Y = [], []\n",
    "\n",
    "  last_time = False\n",
    "  while True:\n",
    "    df_subset = dataframe.loc[:target_date].tail(n+1)\n",
    "    \n",
    "    if len(df_subset) != n+1:\n",
    "      print(f'Error: Window of size {n} is too large for date {target_date}')\n",
    "      return\n",
    "\n",
    "    values = df_subset['Close'].to_numpy()\n",
    "    x, y = values[:-1], values[-1]\n",
    "\n",
    "    dates.append(target_date)\n",
    "    X.append(x)\n",
    "    Y.append(y)\n",
    "\n",
    "    next_week = dataframe.loc[target_date:target_date+datetime.timedelta(days=7)]\n",
    "    next_datetime_str = str(next_week.head(2).tail(1).index.values[0])\n",
    "    next_date_str = next_datetime_str.split('T')[0]\n",
    "    year_month_day = next_date_str.split('-')\n",
    "    year, month, day = year_month_day\n",
    "    next_date = datetime.datetime(day=int(day), month=int(month), year=int(year))\n",
    "    \n",
    "    if last_time:\n",
    "      break\n",
    "    \n",
    "    target_date = next_date\n",
    "\n",
    "    if target_date == last_date:\n",
    "      last_time = True\n",
    "    \n",
    "  ret_df = pd.DataFrame({})\n",
    "  ret_df['Target Date'] = dates\n",
    "  \n",
    "  X = np.array(X)\n",
    "  for i in range(0, n):\n",
    "    X[:, i]\n",
    "    ret_df[f'Target-{n-i}'] = X[:, i]\n",
    "  \n",
    "  ret_df['Target'] = Y\n",
    "\n",
    "  return ret_df\n",
    "\n",
    "# Start day second time around: '2021-03-25'\n",
    "windowed_df = df_to_windowed_df(df, \n",
    "                                '2022-07-11', \n",
    "                                '2023-07-05', \n",
    "                                n=3)\n",
    "windowed_df"
   ]
  },
  {
   "cell_type": "code",
   "execution_count": 38,
   "id": "915165e9",
   "metadata": {},
   "outputs": [
    {
     "data": {
      "text/plain": [
       "((248,), (248, 3, 1), (248,))"
      ]
     },
     "execution_count": 38,
     "metadata": {},
     "output_type": "execute_result"
    }
   ],
   "source": [
    "def windowed_df_to_date_X_y(windowed_dataframe):\n",
    "  df_as_np = windowed_dataframe.to_numpy()\n",
    "\n",
    "  dates = df_as_np[:, 0]\n",
    "\n",
    "  middle_matrix = df_as_np[:, 1:-1]\n",
    "  X = middle_matrix.reshape((len(dates), middle_matrix.shape[1], 1))\n",
    "\n",
    "  Y = df_as_np[:, -1]\n",
    "\n",
    "  return dates, X.astype(np.float32), Y.astype(np.float32)\n",
    "\n",
    "dates, X, y = windowed_df_to_date_X_y(windowed_df)\n",
    "\n",
    "dates.shape, X.shape, y.shape"
   ]
  },
  {
   "cell_type": "code",
   "execution_count": 39,
   "id": "570467e0",
   "metadata": {},
   "outputs": [
    {
     "data": {
      "text/plain": [
       "<matplotlib.legend.Legend at 0x184221553a0>"
      ]
     },
     "execution_count": 39,
     "metadata": {},
     "output_type": "execute_result"
    },
    {
     "data": {
      "image/png": "[encoded data removed]",
      "text/plain": [
       "<Figure size 432x288 with 1 Axes>"
      ]
     },
     "metadata": {
      "needs_background": "light"
     },
     "output_type": "display_data"
    }
   ],
   "source": [
    "q_80 = int(len(dates) * .8)\n",
    "q_90 = int(len(dates) * .9)\n",
    "\n",
    "dates_train, X_train, y_train = dates[:q_80], X[:q_80], y[:q_80]\n",
    "\n",
    "dates_val, X_val, y_val = dates[q_80:q_90], X[q_80:q_90], y[q_80:q_90]\n",
    "dates_test, X_test, y_test = dates[q_90:], X[q_90:], y[q_90:]\n",
    "\n",
    "plt.plot(dates_train, y_train)\n",
    "plt.plot(dates_val, y_val)\n",
    "plt.plot(dates_test, y_test)\n",
    "\n",
    "plt.legend(['Train', 'Validation', 'Test'])"
   ]
  },
  {
   "cell_type": "code",
   "execution_count": 40,
   "id": "d18c8a46",
   "metadata": {},
   "outputs": [
    {
     "name": "stdout",
     "output_type": "stream",
     "text": [
      "Epoch 1/100\n",
      "7/7 [==============================] - 2s 63ms/step - loss: 65226.6367 - mean_absolute_error: 254.6823 - val_loss: 94996.1406 - val_mean_absolute_error: 307.9915\n",
      "Epoch 2/100\n",
      "7/7 [==============================] - 0s 8ms/step - loss: 64824.3906 - mean_absolute_error: 253.8924 - val_loss: 94483.8516 - val_mean_absolute_error: 307.1588\n",
      "Epoch 3/100\n",
      "7/7 [==============================] - 0s 7ms/step - loss: 64388.6055 - mean_absolute_error: 253.0312 - val_loss: 93895.5078 - val_mean_absolute_error: 306.1996\n",
      "Epoch 4/100\n",
      "7/7 [==============================] - 0s 7ms/step - loss: 63860.3398 - mean_absolute_error: 251.9890 - val_loss: 93138.2969 - val_mean_absolute_error: 304.9608\n",
      "Epoch 5/100\n",
      "7/7 [==============================] - 0s 7ms/step - loss: 63196.9531 - mean_absolute_error: 250.6655 - val_loss: 92264.4375 - val_mean_absolute_error: 303.5244\n",
      "Epoch 6/100\n",
      "7/7 [==============================] - 0s 6ms/step - loss: 62391.2930 - mean_absolute_error: 249.0546 - val_loss: 91111.3516 - val_mean_absolute_error: 301.6190\n",
      "Epoch 7/100\n",
      "7/7 [==============================] - 0s 9ms/step - loss: 61356.6836 - mean_absolute_error: 246.9679 - val_loss: 89664.0234 - val_mean_absolute_error: 299.2097\n",
      "Epoch 8/100\n",
      "7/7 [==============================] - 0s 8ms/step - loss: 59968.8750 - mean_absolute_error: 244.1296 - val_loss: 87573.3672 - val_mean_absolute_error: 295.6955\n",
      "Epoch 9/100\n",
      "7/7 [==============================] - 0s 8ms/step - loss: 58055.6016 - mean_absolute_error: 240.1913 - val_loss: 84819.0781 - val_mean_absolute_error: 291.0012\n",
      "Epoch 10/100\n",
      "7/7 [==============================] - 0s 8ms/step - loss: 55727.4492 - mean_absolute_error: 235.2970 - val_loss: 81766.5625 - val_mean_absolute_error: 285.7083\n",
      "Epoch 11/100\n",
      "7/7 [==============================] - 0s 8ms/step - loss: 53126.9883 - mean_absolute_error: 229.7084 - val_loss: 78289.9062 - val_mean_absolute_error: 279.5579\n",
      "Epoch 12/100\n",
      "7/7 [==============================] - 0s 8ms/step - loss: 50148.3945 - mean_absolute_error: 223.1231 - val_loss: 74196.9844 - val_mean_absolute_error: 272.1388\n",
      "Epoch 13/100\n",
      "7/7 [==============================] - 0s 8ms/step - loss: 46619.2109 - mean_absolute_error: 215.0618 - val_loss: 69248.7500 - val_mean_absolute_error: 262.8886\n",
      "Epoch 14/100\n",
      "7/7 [==============================] - 0s 8ms/step - loss: 42254.1328 - mean_absolute_error: 204.6353 - val_loss: 63293.0586 - val_mean_absolute_error: 251.3081\n",
      "Epoch 15/100\n",
      "7/7 [==============================] - 0s 9ms/step - loss: 37630.9102 - mean_absolute_error: 193.0267 - val_loss: 57163.0938 - val_mean_absolute_error: 238.7986\n",
      "Epoch 16/100\n",
      "7/7 [==============================] - 0s 8ms/step - loss: 32500.0508 - mean_absolute_error: 179.2370 - val_loss: 50226.4219 - val_mean_absolute_error: 223.8050\n",
      "Epoch 17/100\n",
      "7/7 [==============================] - 0s 8ms/step - loss: 27343.7012 - mean_absolute_error: 164.1562 - val_loss: 43418.8164 - val_mean_absolute_error: 208.0422\n",
      "Epoch 18/100\n",
      "7/7 [==============================] - 0s 8ms/step - loss: 22326.4219 - mean_absolute_error: 148.1100 - val_loss: 36711.8867 - val_mean_absolute_error: 191.2450\n",
      "Epoch 19/100\n",
      "7/7 [==============================] - 0s 9ms/step - loss: 17530.5449 - mean_absolute_error: 130.9296 - val_loss: 30237.4941 - val_mean_absolute_error: 173.4942\n",
      "Epoch 20/100\n",
      "7/7 [==============================] - 0s 8ms/step - loss: 13130.1855 - mean_absolute_error: 112.9514 - val_loss: 24217.0078 - val_mean_absolute_error: 155.1765\n",
      "Epoch 21/100\n",
      "7/7 [==============================] - 0s 8ms/step - loss: 9325.8154 - mean_absolute_error: 94.4495 - val_loss: 18792.9785 - val_mean_absolute_error: 136.5859\n",
      "Epoch 22/100\n",
      "7/7 [==============================] - 0s 8ms/step - loss: 6181.0630 - mean_absolute_error: 76.0366 - val_loss: 14200.1348 - val_mean_absolute_error: 118.5869\n",
      "Epoch 23/100\n",
      "7/7 [==============================] - 0s 7ms/step - loss: 3807.1462 - mean_absolute_error: 58.3769 - val_loss: 10466.0547 - val_mean_absolute_error: 101.6296\n",
      "Epoch 24/100\n",
      "7/7 [==============================] - 0s 8ms/step - loss: 2105.1372 - mean_absolute_error: 41.4994 - val_loss: 7243.4873 - val_mean_absolute_error: 84.2914\n",
      "Epoch 25/100\n",
      "7/7 [==============================] - 0s 7ms/step - loss: 959.6489 - mean_absolute_error: 25.2841 - val_loss: 4808.0386 - val_mean_absolute_error: 68.3427\n",
      "Epoch 26/100\n",
      "7/7 [==============================] - 0s 9ms/step - loss: 467.9274 - mean_absolute_error: 16.5895 - val_loss: 3498.7749 - val_mean_absolute_error: 57.9785\n",
      "Epoch 27/100\n",
      "7/7 [==============================] - 0s 8ms/step - loss: 370.2519 - mean_absolute_error: 15.8255 - val_loss: 2814.4768 - val_mean_absolute_error: 51.7419\n",
      "Epoch 28/100\n",
      "7/7 [==============================] - 0s 6ms/step - loss: 371.3029 - mean_absolute_error: 16.5004 - val_loss: 2567.5249 - val_mean_absolute_error: 49.2978\n",
      "Epoch 29/100\n",
      "7/7 [==============================] - 0s 8ms/step - loss: 384.2792 - mean_absolute_error: 16.9332 - val_loss: 2547.9678 - val_mean_absolute_error: 49.0991\n",
      "Epoch 30/100\n",
      "7/7 [==============================] - 0s 7ms/step - loss: 382.1769 - mean_absolute_error: 16.8507 - val_loss: 2651.4810 - val_mean_absolute_error: 50.1421\n",
      "Epoch 31/100\n",
      "7/7 [==============================] - 0s 8ms/step - loss: 371.2848 - mean_absolute_error: 16.4785 - val_loss: 2821.7278 - val_mean_absolute_error: 51.8119\n",
      "Epoch 32/100\n",
      "7/7 [==============================] - 0s 5ms/step - loss: 363.9438 - mean_absolute_error: 16.0940 - val_loss: 2962.4607 - val_mean_absolute_error: 53.1527\n",
      "Epoch 33/100\n",
      "7/7 [==============================] - 0s 9ms/step - loss: 362.9107 - mean_absolute_error: 15.8983 - val_loss: 3064.3696 - val_mean_absolute_error: 54.1029\n",
      "Epoch 34/100\n",
      "7/7 [==============================] - 0s 10ms/step - loss: 363.2264 - mean_absolute_error: 15.7932 - val_loss: 3122.0154 - val_mean_absolute_error: 54.6330\n",
      "Epoch 35/100\n",
      "7/7 [==============================] - 0s 8ms/step - loss: 364.9039 - mean_absolute_error: 15.7341 - val_loss: 3173.4419 - val_mean_absolute_error: 55.1019\n",
      "Epoch 36/100\n",
      "7/7 [==============================] - 0s 8ms/step - loss: 364.4688 - mean_absolute_error: 15.6968 - val_loss: 3149.5012 - val_mean_absolute_error: 54.8853\n",
      "Epoch 37/100\n",
      "7/7 [==============================] - 0s 6ms/step - loss: 363.0415 - mean_absolute_error: 15.7099 - val_loss: 3097.4880 - val_mean_absolute_error: 54.4094\n",
      "Epoch 38/100\n",
      "7/7 [==============================] - 0s 7ms/step - loss: 361.4900 - mean_absolute_error: 15.7749 - val_loss: 3033.8960 - val_mean_absolute_error: 53.8235\n",
      "Epoch 39/100\n",
      "7/7 [==============================] - 0s 9ms/step - loss: 361.9572 - mean_absolute_error: 15.7999 - val_loss: 3017.6509 - val_mean_absolute_error: 53.6749\n",
      "Epoch 40/100\n",
      "7/7 [==============================] - 0s 6ms/step - loss: 361.4413 - mean_absolute_error: 15.9199 - val_loss: 2940.3572 - val_mean_absolute_error: 52.9468\n",
      "Epoch 41/100\n",
      "7/7 [==============================] - 0s 6ms/step - loss: 361.9016 - mean_absolute_error: 15.9478 - val_loss: 2961.7754 - val_mean_absolute_error: 53.1518\n",
      "Epoch 42/100\n",
      "7/7 [==============================] - 0s 7ms/step - loss: 360.7848 - mean_absolute_error: 15.9209 - val_loss: 2942.9307 - val_mean_absolute_error: 52.9756\n",
      "Epoch 43/100\n",
      "7/7 [==============================] - 0s 6ms/step - loss: 360.8436 - mean_absolute_error: 15.9357 - val_loss: 2956.4819 - val_mean_absolute_error: 53.1044\n",
      "Epoch 44/100\n",
      "7/7 [==============================] - 0s 7ms/step - loss: 361.2697 - mean_absolute_error: 15.8345 - val_loss: 3053.3191 - val_mean_absolute_error: 54.0071\n",
      "Epoch 45/100\n",
      "7/7 [==============================] - 0s 8ms/step - loss: 361.2690 - mean_absolute_error: 15.8413 - val_loss: 2963.5405 - val_mean_absolute_error: 53.1692\n",
      "Epoch 46/100\n",
      "7/7 [==============================] - 0s 7ms/step - loss: 360.0695 - mean_absolute_error: 15.8417 - val_loss: 2999.2195 - val_mean_absolute_error: 53.5053\n",
      "Epoch 47/100\n",
      "7/7 [==============================] - 0s 6ms/step - loss: 359.0106 - mean_absolute_error: 15.7693 - val_loss: 3032.0103 - val_mean_absolute_error: 53.8218\n",
      "Epoch 48/100\n",
      "7/7 [==============================] - 0s 7ms/step - loss: 355.6724 - mean_absolute_error: 15.4085 - val_loss: 3018.8293 - val_mean_absolute_error: 53.7083\n"
     ]
    },
    {
     "name": "stdout",
     "output_type": "stream",
     "text": [
      "Epoch 49/100\n",
      "7/7 [==============================] - 0s 5ms/step - loss: 352.2811 - mean_absolute_error: 15.6588 - val_loss: 2917.6694 - val_mean_absolute_error: 52.7492\n",
      "Epoch 50/100\n",
      "7/7 [==============================] - 0s 9ms/step - loss: 348.1427 - mean_absolute_error: 15.5552 - val_loss: 3100.1575 - val_mean_absolute_error: 54.4764\n",
      "Epoch 51/100\n",
      "7/7 [==============================] - 0s 7ms/step - loss: 348.4985 - mean_absolute_error: 15.1010 - val_loss: 3030.4016 - val_mean_absolute_error: 53.8613\n",
      "Epoch 52/100\n",
      "7/7 [==============================] - 0s 7ms/step - loss: 346.4366 - mean_absolute_error: 15.3755 - val_loss: 2781.0093 - val_mean_absolute_error: 51.4362\n",
      "Epoch 53/100\n",
      "7/7 [==============================] - 0s 5ms/step - loss: 348.9372 - mean_absolute_error: 15.7493 - val_loss: 2945.5618 - val_mean_absolute_error: 53.0390\n",
      "Epoch 54/100\n",
      "7/7 [==============================] - 0s 6ms/step - loss: 345.2842 - mean_absolute_error: 15.3201 - val_loss: 3025.9424 - val_mean_absolute_error: 53.7988\n",
      "Epoch 55/100\n",
      "7/7 [==============================] - 0s 7ms/step - loss: 345.4383 - mean_absolute_error: 15.2810 - val_loss: 2978.1440 - val_mean_absolute_error: 53.3517\n",
      "Epoch 56/100\n",
      "7/7 [==============================] - 0s 6ms/step - loss: 343.0333 - mean_absolute_error: 15.2629 - val_loss: 2875.0256 - val_mean_absolute_error: 52.3663\n",
      "Epoch 57/100\n",
      "7/7 [==============================] - 0s 6ms/step - loss: 344.6245 - mean_absolute_error: 15.5749 - val_loss: 2822.0332 - val_mean_absolute_error: 51.8567\n",
      "Epoch 58/100\n",
      "7/7 [==============================] - 0s 8ms/step - loss: 340.1602 - mean_absolute_error: 15.3140 - val_loss: 2956.9065 - val_mean_absolute_error: 53.1718\n",
      "Epoch 59/100\n",
      "7/7 [==============================] - 0s 6ms/step - loss: 334.0118 - mean_absolute_error: 15.1099 - val_loss: 2796.0103 - val_mean_absolute_error: 51.6235\n",
      "Epoch 60/100\n",
      "7/7 [==============================] - 0s 7ms/step - loss: 338.1206 - mean_absolute_error: 15.5012 - val_loss: 2738.2502 - val_mean_absolute_error: 51.0647\n",
      "Epoch 61/100\n",
      "7/7 [==============================] - 0s 7ms/step - loss: 329.5621 - mean_absolute_error: 15.0514 - val_loss: 2868.9092 - val_mean_absolute_error: 52.3565\n",
      "Epoch 62/100\n",
      "7/7 [==============================] - 0s 6ms/step - loss: 327.4049 - mean_absolute_error: 14.9816 - val_loss: 2682.3765 - val_mean_absolute_error: 50.5325\n",
      "Epoch 63/100\n",
      "7/7 [==============================] - 0s 6ms/step - loss: 329.9371 - mean_absolute_error: 15.1426 - val_loss: 2802.7520 - val_mean_absolute_error: 51.7285\n",
      "Epoch 64/100\n",
      "7/7 [==============================] - 0s 6ms/step - loss: 322.3022 - mean_absolute_error: 14.9271 - val_loss: 2655.2039 - val_mean_absolute_error: 50.2717\n",
      "Epoch 65/100\n",
      "7/7 [==============================] - 0s 7ms/step - loss: 328.9569 - mean_absolute_error: 15.3970 - val_loss: 2642.4941 - val_mean_absolute_error: 50.1517\n",
      "Epoch 66/100\n",
      "7/7 [==============================] - 0s 7ms/step - loss: 322.2510 - mean_absolute_error: 14.8061 - val_loss: 2827.4998 - val_mean_absolute_error: 51.9882\n",
      "Epoch 67/100\n",
      "7/7 [==============================] - 0s 9ms/step - loss: 321.8515 - mean_absolute_error: 14.9433 - val_loss: 2689.7905 - val_mean_absolute_error: 50.6410\n",
      "Epoch 68/100\n",
      "7/7 [==============================] - 0s 8ms/step - loss: 288.6527 - mean_absolute_error: 13.8079 - val_loss: 2405.8140 - val_mean_absolute_error: 47.7141\n",
      "Epoch 69/100\n",
      "7/7 [==============================] - 0s 9ms/step - loss: 326.7397 - mean_absolute_error: 15.5454 - val_loss: 2724.8337 - val_mean_absolute_error: 51.0042\n",
      "Epoch 70/100\n",
      "7/7 [==============================] - 0s 5ms/step - loss: 327.9857 - mean_absolute_error: 14.5244 - val_loss: 2791.9424 - val_mean_absolute_error: 51.6529\n",
      "Epoch 71/100\n",
      "7/7 [==============================] - 0s 7ms/step - loss: 320.5878 - mean_absolute_error: 15.1373 - val_loss: 2749.7837 - val_mean_absolute_error: 51.3181\n",
      "Epoch 72/100\n",
      "7/7 [==============================] - 0s 6ms/step - loss: 290.9265 - mean_absolute_error: 13.9931 - val_loss: 2526.5500 - val_mean_absolute_error: 49.0483\n",
      "Epoch 73/100\n",
      "7/7 [==============================] - 0s 7ms/step - loss: 278.2646 - mean_absolute_error: 13.3773 - val_loss: 2341.3538 - val_mean_absolute_error: 47.0743\n",
      "Epoch 74/100\n",
      "7/7 [==============================] - 0s 6ms/step - loss: 304.8130 - mean_absolute_error: 14.9487 - val_loss: 2645.1677 - val_mean_absolute_error: 50.2704\n",
      "Epoch 75/100\n",
      "7/7 [==============================] - 0s 8ms/step - loss: 272.8389 - mean_absolute_error: 13.1493 - val_loss: 2210.1309 - val_mean_absolute_error: 45.7234\n",
      "Epoch 76/100\n",
      "7/7 [==============================] - 0s 6ms/step - loss: 260.7284 - mean_absolute_error: 13.3599 - val_loss: 2071.4866 - val_mean_absolute_error: 44.1903\n",
      "Epoch 77/100\n",
      "7/7 [==============================] - 0s 6ms/step - loss: 249.3534 - mean_absolute_error: 12.8585 - val_loss: 2439.6353 - val_mean_absolute_error: 48.2947\n",
      "Epoch 78/100\n",
      "7/7 [==============================] - 0s 7ms/step - loss: 251.2726 - mean_absolute_error: 13.0922 - val_loss: 2292.2185 - val_mean_absolute_error: 46.6987\n",
      "Epoch 79/100\n",
      "7/7 [==============================] - 0s 7ms/step - loss: 243.5127 - mean_absolute_error: 12.6263 - val_loss: 2040.7595 - val_mean_absolute_error: 43.9117\n",
      "Epoch 80/100\n",
      "7/7 [==============================] - 0s 7ms/step - loss: 245.4068 - mean_absolute_error: 12.8907 - val_loss: 1911.3081 - val_mean_absolute_error: 42.3632\n",
      "Epoch 81/100\n",
      "7/7 [==============================] - 0s 6ms/step - loss: 224.4439 - mean_absolute_error: 12.1868 - val_loss: 1944.4504 - val_mean_absolute_error: 42.8000\n",
      "Epoch 82/100\n",
      "7/7 [==============================] - 0s 6ms/step - loss: 192.0787 - mean_absolute_error: 11.0216 - val_loss: 1783.9457 - val_mean_absolute_error: 40.8844\n",
      "Epoch 83/100\n",
      "7/7 [==============================] - 0s 7ms/step - loss: 201.4251 - mean_absolute_error: 12.0133 - val_loss: 2392.2849 - val_mean_absolute_error: 47.9723\n",
      "Epoch 84/100\n",
      "7/7 [==============================] - 0s 6ms/step - loss: 226.8191 - mean_absolute_error: 12.2706 - val_loss: 1871.1898 - val_mean_absolute_error: 42.0509\n",
      "Epoch 85/100\n",
      "7/7 [==============================] - 0s 6ms/step - loss: 198.5882 - mean_absolute_error: 11.4071 - val_loss: 1599.7489 - val_mean_absolute_error: 38.6178\n",
      "Epoch 86/100\n",
      "7/7 [==============================] - 0s 7ms/step - loss: 183.3269 - mean_absolute_error: 10.8720 - val_loss: 1698.6780 - val_mean_absolute_error: 40.0077\n",
      "Epoch 87/100\n",
      "7/7 [==============================] - 0s 8ms/step - loss: 157.9361 - mean_absolute_error: 10.3489 - val_loss: 1645.6392 - val_mean_absolute_error: 39.3213\n",
      "Epoch 88/100\n",
      "7/7 [==============================] - 0s 7ms/step - loss: 153.1266 - mean_absolute_error: 9.9420 - val_loss: 1406.1492 - val_mean_absolute_error: 36.0870\n",
      "Epoch 89/100\n",
      "7/7 [==============================] - 0s 6ms/step - loss: 157.3391 - mean_absolute_error: 10.1106 - val_loss: 1418.4391 - val_mean_absolute_error: 36.3651\n",
      "Epoch 90/100\n",
      "7/7 [==============================] - 0s 7ms/step - loss: 108.8261 - mean_absolute_error: 8.3071 - val_loss: 1261.5737 - val_mean_absolute_error: 34.1487\n",
      "Epoch 91/100\n",
      "7/7 [==============================] - 0s 7ms/step - loss: 108.6960 - mean_absolute_error: 8.3330 - val_loss: 1261.9066 - val_mean_absolute_error: 34.2796\n",
      "Epoch 92/100\n",
      "7/7 [==============================] - 0s 7ms/step - loss: 88.9465 - mean_absolute_error: 7.5297 - val_loss: 1148.8096 - val_mean_absolute_error: 32.5461\n",
      "Epoch 93/100\n",
      "7/7 [==============================] - 0s 6ms/step - loss: 84.1262 - mean_absolute_error: 7.4088 - val_loss: 1203.1975 - val_mean_absolute_error: 33.5118\n",
      "Epoch 94/100\n",
      "7/7 [==============================] - 0s 6ms/step - loss: 76.0948 - mean_absolute_error: 6.9742 - val_loss: 1077.1489 - val_mean_absolute_error: 31.5530\n",
      "Epoch 95/100\n",
      "7/7 [==============================] - 0s 7ms/step - loss: 72.6690 - mean_absolute_error: 6.9287 - val_loss: 818.8240 - val_mean_absolute_error: 26.9937\n",
      "Epoch 96/100\n",
      "7/7 [==============================] - 0s 6ms/step - loss: 87.1911 - mean_absolute_error: 7.7158 - val_loss: 858.3763 - val_mean_absolute_error: 27.7797\n",
      "Epoch 97/100\n"
     ]
    },
    {
     "name": "stdout",
     "output_type": "stream",
     "text": [
      "7/7 [==============================] - 0s 6ms/step - loss: 62.4109 - mean_absolute_error: 6.2858 - val_loss: 840.8979 - val_mean_absolute_error: 27.5296\n",
      "Epoch 98/100\n",
      "7/7 [==============================] - 0s 7ms/step - loss: 64.4551 - mean_absolute_error: 6.5111 - val_loss: 774.7187 - val_mean_absolute_error: 26.2923\n",
      "Epoch 99/100\n",
      "7/7 [==============================] - 0s 7ms/step - loss: 66.0412 - mean_absolute_error: 6.5117 - val_loss: 680.7687 - val_mean_absolute_error: 24.5589\n",
      "Epoch 100/100\n",
      "7/7 [==============================] - 0s 6ms/step - loss: 60.1967 - mean_absolute_error: 6.2601 - val_loss: 750.3845 - val_mean_absolute_error: 25.9274\n"
     ]
    },
    {
     "data": {
      "text/plain": [
       "<keras.callbacks.History at 0x1842335fb50>"
      ]
     },
     "execution_count": 40,
     "metadata": {},
     "output_type": "execute_result"
    }
   ],
   "source": [
    "from tensorflow.keras.models import Sequential\n",
    "from tensorflow.keras.optimizers import Adam\n",
    "from tensorflow.keras import layers\n",
    "\n",
    "model = Sequential([layers.Input((3, 1)),\n",
    "                    layers.LSTM(64),\n",
    "                    layers.Dense(32, activation='relu'),\n",
    "                    layers.Dense(32, activation='relu'),\n",
    "                    layers.Dense(1)])\n",
    "\n",
    "model.compile(loss='mse', \n",
    "              optimizer=Adam(learning_rate=0.001),\n",
    "              metrics=['mean_absolute_error'])\n",
    "\n",
    "model.fit(X_train, y_train, validation_data=(X_val, y_val), epochs=100)"
   ]
  },
  {
   "cell_type": "code",
   "execution_count": 41,
   "id": "0497b4a5",
   "metadata": {},
   "outputs": [
    {
     "data": {
      "text/plain": [
       "<matplotlib.legend.Legend at 0x1842572fc70>"
      ]
     },
     "execution_count": 41,
     "metadata": {},
     "output_type": "execute_result"
    },
    {
     "data": {
      "image/png": "[encoded data removed]",
      "text/plain": [
       "<Figure size 432x288 with 1 Axes>"
      ]
     },
     "metadata": {
      "needs_background": "light"
     },
     "output_type": "display_data"
    }
   ],
   "source": [
    "train_predictions = model.predict(X_train).flatten()\n",
    "\n",
    "plt.plot(dates_train, train_predictions)\n",
    "plt.plot(dates_train, y_train)\n",
    "plt.legend(['Training Predictions', 'Training Observations'])"
   ]
  },
  {
   "cell_type": "code",
   "execution_count": 42,
   "id": "90423013",
   "metadata": {},
   "outputs": [
    {
     "data": {
      "text/plain": [
       "<matplotlib.legend.Legend at 0x18426856cd0>"
      ]
     },
     "execution_count": 42,
     "metadata": {},
     "output_type": "execute_result"
    },
    {
     "data": {
      "image/png": "[encoded data removed]",
      "text/plain": [
       "<Figure size 432x288 with 1 Axes>"
      ]
     },
     "metadata": {
      "needs_background": "light"
     },
     "output_type": "display_data"
    }
   ],
   "source": [
    "val_predictions = model.predict(X_val).flatten()\n",
    "\n",
    "plt.plot(dates_val, val_predictions)\n",
    "plt.plot(dates_val, y_val)\n",
    "plt.legend(['Validation Predictions', 'Validation Observations'])"
   ]
  },
  {
   "cell_type": "code",
   "execution_count": 44,
   "id": "91a060ae",
   "metadata": {},
   "outputs": [
    {
     "data": {
      "text/plain": [
       "<matplotlib.legend.Legend at 0x18426a31c40>"
      ]
     },
     "execution_count": 44,
     "metadata": {},
     "output_type": "execute_result"
    },
    {
     "data": {
      "image/png": "[encoded data removed]",
      "text/plain": [
       "<Figure size 432x288 with 1 Axes>"
      ]
     },
     "metadata": {
      "needs_background": "light"
     },
     "output_type": "display_data"
    }
   ],
   "source": [
    "test_predictions = model.predict(X_test).flatten()\n",
    "\n",
    "plt.plot(dates_test, test_predictions)\n",
    "plt.plot(dates_test, y_test)\n",
    "plt.legend(['Testing Predictions', 'Testing Observations'])"
   ]
  },
  {
   "cell_type": "code",
   "execution_count": 45,
   "id": "b2ca01dd",
   "metadata": {},
   "outputs": [
    {
     "data": {
      "text/plain": [
       "<matplotlib.legend.Legend at 0x18426acabe0>"
      ]
     },
     "execution_count": 45,
     "metadata": {},
     "output_type": "execute_result"
    },
    {
     "data": {
      "image/png": "[encoded data removed]",
      "text/plain": [
       "<Figure size 432x288 with 1 Axes>"
      ]
     },
     "metadata": {
      "needs_background": "light"
     },
     "output_type": "display_data"
    }
   ],
   "source": [
    "plt.plot(dates_train, train_predictions)\n",
    "plt.plot(dates_train, y_train)\n",
    "plt.plot(dates_val, val_predictions)\n",
    "plt.plot(dates_val, y_val)\n",
    "plt.plot(dates_test, test_predictions)\n",
    "plt.plot(dates_test, y_test)\n",
    "plt.legend(['Training Predictions', \n",
    "            'Training Observations',\n",
    "            'Validation Predictions', \n",
    "            'Validation Observations',\n",
    "            'Testing Predictions', \n",
    "            'Testing Observations'])"
   ]
  },
  {
   "cell_type": "code",
   "execution_count": 46,
   "id": "aa68664f",
   "metadata": {},
   "outputs": [],
   "source": [
    "from copy import deepcopy\n",
    "\n",
    "recursive_predictions = []\n",
    "recursive_dates = np.concatenate([dates_val, dates_test])\n",
    "\n",
    "for target_date in recursive_dates:\n",
    "  last_window = deepcopy(X_train[-1])\n",
    "  next_prediction = model.predict(np.array([last_window])).flatten()\n",
    "  recursive_predictions.append(next_prediction)\n",
    "  last_window[-1] = next_prediction"
   ]
  },
  {
   "cell_type": "code",
   "execution_count": 47,
   "id": "2938c66c",
   "metadata": {},
   "outputs": [
    {
     "data": {
      "text/plain": [
       "<matplotlib.legend.Legend at 0x18426b48ca0>"
      ]
     },
     "execution_count": 47,
     "metadata": {},
     "output_type": "execute_result"
    },
    {
     "data": {
      "image/png": "[encoded data removed]",
      "text/plain": [
       "<Figure size 432x288 with 1 Axes>"
      ]
     },
     "metadata": {
      "needs_background": "light"
     },
     "output_type": "display_data"
    }
   ],
   "source": [
    "plt.plot(dates_train, train_predictions)\n",
    "plt.plot(dates_train, y_train)\n",
    "plt.plot(dates_val, val_predictions)\n",
    "plt.plot(dates_val, y_val)\n",
    "plt.plot(dates_test, test_predictions)\n",
    "plt.plot(dates_test, y_test)\n",
    "plt.plot(recursive_dates, recursive_predictions)\n",
    "plt.legend(['Training Predictions', \n",
    "            'Training Observations',\n",
    "            'Validation Predictions', \n",
    "            'Validation Observations',\n",
    "            'Testing Predictions', \n",
    "            'Testing Observations',\n",
    "            'Recursive Predictions'])"
   ]
  },
  {
   "cell_type": "code",
   "execution_count": null,
   "id": "a9584cb7",
   "metadata": {},
   "outputs": [],
   "source": []
  }
 ],
 "metadata": {
  "kernelspec": {
   "display_name": "Python 3 (ipykernel)",
   "language": "python",
   "name": "python3"
  },
  "language_info": {
   "codemirror_mode": {
    "name": "ipython",
    "version": 3
   },
   "file_extension": ".py",
   "mimetype": "text/x-python",
   "name": "python",
   "nbconvert_exporter": "python",
   "pygments_lexer": "ipython3",
   "version": "3.9.7"
  }
 },
 "nbformat": 4,
 "nbformat_minor": 5
}
